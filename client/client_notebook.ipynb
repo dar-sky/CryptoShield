{
 "cells": [
  {
   "cell_type": "code",
   "execution_count": 32,
   "id": "daily-current",
   "metadata": {},
   "outputs": [],
   "source": [
    "from AES import *\n",
    "from hash import *\n",
    "from key import *\n",
    "from RSA import *"
   ]
  },
  {
   "cell_type": "code",
   "execution_count": 33,
   "id": "public-industry",
   "metadata": {},
   "outputs": [
    {
     "name": "stdout",
     "output_type": "stream",
     "text": [
      "Enter your Plain_test :: hello my name is $#@%#vdfbv rv\n",
      "Enter your Key :: 345234fscfZgd   4fer\n",
      "\n",
      "Cipher_Text :: \n",
      "2a605cf140ecbede1c64aa72acf494c8ad8a43ed79c8e767999574e648babe55\n",
      "\n",
      "Key :: 333363643434662035665a2032736720 \n",
      "\n",
      "Plain Text :: \n",
      "hello my name is $#@%#vdfbv rv##\n",
      "\n",
      "\n"
     ]
    }
   ],
   "source": [
    "plain=input(\"Enter your Plain_test :: \")\n",
    "key=input(\"Enter your Key :: \")\n",
    "Cipher_Text,Key,plain_text =encryption(plain,key)\n",
    "print(f\"\\nCipher_Text :: \\n{Cipher_Text}\\n\")\n",
    "print(f\"Key :: {Key} \\n\")\n",
    "print(f\"Plain Text :: \\n{plain_text}\\n\\n\")"
   ]
  },
  {
   "cell_type": "code",
   "execution_count": 36,
   "id": "unusual-belgium",
   "metadata": {},
   "outputs": [],
   "source": [
    "client_public,client_private=client_key()"
   ]
  },
  {
   "cell_type": "code",
   "execution_count": 37,
   "id": "geological-joseph",
   "metadata": {},
   "outputs": [
    {
     "data": {
      "text/plain": [
       "(1113327440827593633388512482328951747697199,\n",
       " 1624130632549417193952635445053491125541171)"
      ]
     },
     "execution_count": 37,
     "metadata": {},
     "output_type": "execute_result"
    }
   ],
   "source": [
    "client_public"
   ]
  },
  {
   "cell_type": "code",
   "execution_count": 38,
   "id": "packed-diagnosis",
   "metadata": {},
   "outputs": [
    {
     "data": {
      "text/plain": [
       "(2317744638522943431673870750290076853588687,\n",
       " 1624130632549417193952635445053491125541171)"
      ]
     },
     "execution_count": 38,
     "metadata": {},
     "output_type": "execute_result"
    }
   ],
   "source": [
    "client_private"
   ]
  },
  {
   "cell_type": "code",
   "execution_count": 39,
   "id": "medical-physics",
   "metadata": {},
   "outputs": [],
   "source": [
    "msg_digset=SHA(plain_text)"
   ]
  },
  {
   "cell_type": "code",
   "execution_count": 40,
   "id": "attended-studio",
   "metadata": {},
   "outputs": [],
   "source": [
    "client_signature=encrypt(client_private,msg_digset)\n",
    "c_s=\"\"\n",
    "for i in client_signature:\n",
    "    c_s+=str(i)"
   ]
  },
  {
   "cell_type": "code",
   "execution_count": 41,
   "id": "trained-sense",
   "metadata": {},
   "outputs": [],
   "source": [
    "def enc_key(server_public_key):\n",
    "    ppp=encrypt(server_public_key,Key)\n",
    "    return ppp"
   ]
  },
  {
   "cell_type": "code",
   "execution_count": 42,
   "id": "convenient-string",
   "metadata": {},
   "outputs": [
    {
     "name": "stdout",
     "output_type": "stream",
     "text": [
      "Connecting to LAPTOP-9PL5K16P (LAPTOP-9PL5K16P) with 192.168.43.137\n",
      "\n",
      "Connected to server-side. \n",
      "\n",
      "b'[238875874709255771802441405853692133477571563361198487, 238875874709255771802441405853692133477571563361198487, 238875874709255771802441405853692133477571563361198487, 238875874709255771802441405853692133477571563361198487, 246840411187741284412713645112458748844664888359015961, 238875874709255771802441405853692133477571563361198487, 246840411187741284412713645112458748844664888359015961, 202966096732215709977304313535365794476081523700585, 238875874709255771802441405853692133477571563361198487, 202966096732215709977304313535365794476081523700585, 238875874709255771802441405853692133477571563361198487, 202966096732215709977304313535365794476081523700585, 246840411187741284412713645112458748844664888359015961, 246840411187741284412713645112458748844664888359015961, 236005372114827795963343123165959607109946666950918016, 256400485904349730896513335123301706935721410327804709, 238875874709255771802441405853692133477571563361198487, 369960067187039015167313672540352329489035831009207796, 246840411187741284412713645112458748844664888359015961, 246840411187741284412713645112458748844664888359015961, 369960067187039015167313672540352329489035831009207796, 5373696407268308529194146532148065700759770025088136, 236005372114827795963343123165959607109946666950918016, 256400485904349730896513335123301706935721410327804709, 238875874709255771802441405853692133477571563361198487, 236005372114827795963343123165959607109946666950918016, 206585145290702724157660528732314496407661759712011185, 238875874709255771802441405853692133477571563361198487, 246840411187741284412713645112458748844664888359015961, 206585145290702724157660528732314496407661759712011185, 236005372114827795963343123165959607109946666950918016, 256400485904349730896513335123301706935721410327804709]'\n",
      "<class 'int'>\n",
      "encrypted_secret_key send successfully \n",
      "\n",
      " \n",
      "2a605cf140ecbede1c64aa72acf494c8ad8a43ed79c8e767999574e648babe55\n",
      "\n",
      "\n",
      "Cipher_text send successfully \n",
      "\n",
      " \n",
      "(1113327440827593633388512482328951747697199, 1624130632549417193952635445053491125541171)\n",
      "\n",
      "\n",
      "client_public send successfully \n",
      "\n",
      " \n",
      "11540299437955286887089018335067286339536465833499733282343567767543564259742020541404742586417715060353805165550463478571621258334997332823435677675435642597420205414080776038740176156535181331877240106236647332335016621776321916567986296662248071711540299437955286887089018335067286339536468843118983875494718225017052944806497333438843118983875494718225017052944806497333439667572194216968193216335532451133496645675833499733282343567767543564259742020541405833499733282343567767543564259742020541408077603874017615653518133187724010623664718605966776480677464280005776360089119389456956242305650281492470859871370855873373515096144674098368465194676063748806956323701345384330822404590333191924043645137336505807760387401761565351813318772401062366471525222976108096928241903171646886153539213150961446740983684651946760637488069563237037195929307680810199697368642006758788709411540299437955286887089018335067286339536468077603874017615653518133187724010623664758334997332823435677675435642597420205414011464246751433520992780101674723117806918481509614467409836846519467606374880695632370769310502086851772564769285341597727087369152522297610809692824190317164688615353921337195929307680810199697368642006758788709418605966776480677464280005776360089119389415096144674098368465194676063748806956323707693105020868517725647692853415977270873691509614467409836846519467606374880695632370966757219421696819321633553245113349664567474258641771506035380516555046347857162121525222976108096928241903171646886153539213114642467514335209927801016747231178069184815096144674098368465194676063748806956323703323350166217763219165679862966622480717583349973328234356776754356425974202054140332335016621776321916567986296662248071715096144674098368465194676063748806956323703719592930768081019969736864200675878870945833499733282343567767543564259742020541401345384330822404590333191924043645137336505150961446740983684651946760637488069563237096675721942169681932163355324511334966456711464246751433520992780101674723117806918481525222976108096928241903171646886153539213769310502086851772564769285341597727087369332335016621776321916567986296662248071796675721942169681932163355324511334966456799971697400511777485261190624363257681326447425864177150603538051655504634785716212152522297610809692824190317164688615353921333233501662177632191656798629666224807171345384330822404590333191924043645137336505474258641771506035380516555046347857162125833499733282343567767543564259742020541401525222976108096928241903171646886153539213114642467514335209927801016747231178069184880776038740176156535181331877240106236647371959293076808101996973686420067587887094\n",
      "\n",
      "\n",
      "  client_signature send successfully \n",
      "\n",
      " \n"
     ]
    }
   ],
   "source": [
    "import socket  \n",
    "import time\n",
    "def clientSideConnection():\n",
    "    sock = socket.socket(socket.AF_INET, socket.SOCK_STREAM)\n",
    "    local_hostname = socket.gethostname()\n",
    "    local_fqdn = socket.getfqdn()\n",
    " \n",
    "    ip_address = socket.gethostbyname(local_hostname)\n",
    "    port = 55468\n",
    "    server_address = (ip_address, port)\n",
    "    sock.connect(server_address)\n",
    " \n",
    "    print (f\"Connecting to {local_hostname} ({local_fqdn}) with {ip_address}\")\n",
    "    print (\"\\nConnected to server-side. \\n\")\n",
    "    data=str(\"\\n\\nSend me Public Key \").encode(\"utf-8\")\n",
    "    sock.sendall(data)\n",
    "#     time.sleep(2)\n",
    "    \n",
    "    q=sock.recv(4096).decode()\n",
    "    n=sock.recv(4096).decode()\n",
    "    \n",
    "    server_public_key=(int(q),int(n))\n",
    "    \n",
    "    encrypted_secret_key=enc_key(server_public_key)\n",
    "    esk=str(encrypted_secret_key).encode()\n",
    "    print(esk)\n",
    "    print(type(esk[0]))\n",
    "    \n",
    "    sock.send(esk)\n",
    "    print(\"encrypted_secret_key send successfully \\n\\n \")\n",
    "    \n",
    "    esk=str(Cipher_Text).encode()\n",
    "    sock.send(esk)\n",
    "    print(Cipher_Text)\n",
    "    print(\"\\n\\nCipher_text send successfully \\n\\n \")\n",
    "    \n",
    "    \n",
    "    esk=str(client_public).encode()\n",
    "    sock.send(esk)\n",
    "    print(client_public)\n",
    "    print(\"\\n\\nclient_public send successfully \\n\\n \")\n",
    "\n",
    "#     sock.send(str(\"as\").encode())\n",
    "    i=0\n",
    "    while i < len(client_signature):\n",
    "        sock.send(str(client_signature[i]).encode())\n",
    "        time.sleep(1)\n",
    "        i+=1\n",
    "    print(c_s)\n",
    "    print(\"\\n\\n  client_signature send successfully \\n\\n \")\n",
    "\n",
    "    \n",
    "\n",
    "    \n",
    "    \n",
    "    sock.close()\n",
    " \n",
    "clientSideConnection()"
   ]
  },
  {
   "cell_type": "code",
   "execution_count": null,
   "id": "limited-gender",
   "metadata": {},
   "outputs": [],
   "source": []
  }
 ],
 "metadata": {
  "kernelspec": {
   "display_name": "Python 3",
   "language": "python",
   "name": "python3"
  },
  "language_info": {
   "codemirror_mode": {
    "name": "ipython",
    "version": 3
   },
   "file_extension": ".py",
   "mimetype": "text/x-python",
   "name": "python",
   "nbconvert_exporter": "python",
   "pygments_lexer": "ipython3",
   "version": "3.8.8"
  }
 },
 "nbformat": 4,
 "nbformat_minor": 5
}
